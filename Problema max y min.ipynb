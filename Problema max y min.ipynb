{
 "cells": [
  {
   "cell_type": "code",
   "execution_count": 22,
   "id": "2a0393d7",
   "metadata": {},
   "outputs": [
    {
     "data": {
      "text/latex": [
       "$\\displaystyle 3 x + 2 y - 6.6$"
      ],
      "text/plain": [
       "3*x + 2*y - 6.6"
      ]
     },
     "execution_count": 22,
     "metadata": {},
     "output_type": "execute_result"
    }
   ],
   "source": [
    "import sympy as sp\n",
    "import numpy as np\n",
    "\n",
    "sp.var(\"x\")\n",
    "sp.var(\"y\")\n",
    "sp.var(\"h\")\n",
    "\n",
    "perimetro = 2*y + 3*x - 6.6\n",
    "perimetro"
   ]
  },
  {
   "cell_type": "code",
   "execution_count": 23,
   "id": "75f64d51",
   "metadata": {},
   "outputs": [
    {
     "data": {
      "text/latex": [
       "$\\displaystyle 2.2 - 0.666666666666667 y$"
      ],
      "text/plain": [
       "2.2 - 0.666666666666667*y"
      ]
     },
     "execution_count": 23,
     "metadata": {},
     "output_type": "execute_result"
    }
   ],
   "source": [
    "x_sol = sp.solve(perimetro, x)[0]\n",
    "x_sol"
   ]
  },
  {
   "cell_type": "code",
   "execution_count": 24,
   "id": "8eefd70e",
   "metadata": {},
   "outputs": [
    {
     "data": {
      "text/latex": [
       "$\\displaystyle 1.1 \\sqrt{3} \\sqrt{\\left(1 - 0.303030303030303 y\\right)^{2}}$"
      ],
      "text/plain": [
       "1.1*sqrt(3)*sqrt((1 - 0.303030303030303*y)**2)"
      ]
     },
     "execution_count": 24,
     "metadata": {},
     "output_type": "execute_result"
    }
   ],
   "source": [
    "altura = sp.sqrt(x**2 - (x/2)**2)\n",
    "h_sol = altura.subs(x, x_sol)\n",
    "h_sol"
   ]
  },
  {
   "cell_type": "markdown",
   "id": "c07f9ccf",
   "metadata": {},
   "source": [
    "Si la función de costo es x*y + x*h/2"
   ]
  },
  {
   "cell_type": "code",
   "execution_count": 25,
   "id": "4bc6002e",
   "metadata": {},
   "outputs": [
    {
     "data": {
      "text/latex": [
       "$\\displaystyle \\frac{h x}{2} + x y$"
      ],
      "text/plain": [
       "h*x/2 + x*y"
      ]
     },
     "execution_count": 25,
     "metadata": {},
     "output_type": "execute_result"
    }
   ],
   "source": [
    "area = x*y + (x*h)/2\n",
    "area"
   ]
  },
  {
   "cell_type": "code",
   "execution_count": 26,
   "id": "34e15f2f",
   "metadata": {},
   "outputs": [
    {
     "data": {
      "text/latex": [
       "$\\displaystyle y \\left(2.2 - 0.666666666666667 y\\right) + 0.55 \\sqrt{3} \\cdot \\left(2.2 - 0.666666666666667 y\\right) \\sqrt{\\left(1 - 0.303030303030303 y\\right)^{2}}$"
      ],
      "text/plain": [
       "y*(2.2 - 0.666666666666667*y) + 0.55*sqrt(3)*(2.2 - 0.666666666666667*y)*sqrt((1 - 0.303030303030303*y)**2)"
      ]
     },
     "execution_count": 26,
     "metadata": {},
     "output_type": "execute_result"
    }
   ],
   "source": [
    "area_y = area.subs(x, x_sol).subs(h, h_sol)\n",
    "area_y"
   ]
  },
  {
   "cell_type": "markdown",
   "id": "32888e47",
   "metadata": {},
   "source": [
    "Encontrar puntos críticos derivando"
   ]
  },
  {
   "cell_type": "code",
   "execution_count": 27,
   "id": "68514edc",
   "metadata": {},
   "outputs": [
    {
     "data": {
      "text/latex": [
       "$\\displaystyle - 1.33333333333333 y - 0.366666666666667 \\sqrt{3} \\sqrt{\\left(1 - 0.303030303030303 y\\right)^{2}} + 2.2 + \\frac{0.55 \\sqrt{3} \\cdot \\left(2.2 - 0.666666666666667 y\\right) \\left(0.0918273645546372 y - 0.303030303030303\\right) \\sqrt{\\left(1 - 0.303030303030303 y\\right)^{2}}}{\\left(1 - 0.303030303030303 y\\right)^{2}}$"
      ],
      "text/plain": [
       "-1.33333333333333*y - 0.366666666666667*sqrt(3)*sqrt((1 - 0.303030303030303*y)**2) + 2.2 + 0.55*sqrt(3)*(2.2 - 0.666666666666667*y)*(0.0918273645546372*y - 0.303030303030303)*sqrt((1 - 0.303030303030303*y)**2)/(1 - 0.303030303030303*y)**2"
      ]
     },
     "execution_count": 27,
     "metadata": {},
     "output_type": "execute_result"
    }
   ],
   "source": [
    "darea_y = sp.diff(area_y,y)\n",
    "darea_y"
   ]
  },
  {
   "cell_type": "code",
   "execution_count": 28,
   "id": "3dcf2764",
   "metadata": {},
   "outputs": [
    {
     "data": {
      "text/latex": [
       "$\\displaystyle 0.980384757729337$"
      ],
      "text/plain": [
       "0.980384757729337"
      ]
     },
     "execution_count": 28,
     "metadata": {},
     "output_type": "execute_result"
    }
   ],
   "source": [
    "y_num = sp.solve(darea_y, y)[0]\n",
    "y_num"
   ]
  },
  {
   "cell_type": "code",
   "execution_count": 29,
   "id": "440d54f9",
   "metadata": {},
   "outputs": [
    {
     "data": {
      "text/latex": [
       "$\\displaystyle 1.54641016151378$"
      ],
      "text/plain": [
       "1.54641016151378"
      ]
     },
     "execution_count": 29,
     "metadata": {},
     "output_type": "execute_result"
    }
   ],
   "source": [
    "x_num = x_sol.subs(y, y_num)\n",
    "x_num"
   ]
  },
  {
   "cell_type": "code",
   "execution_count": 30,
   "id": "583ca922",
   "metadata": {},
   "outputs": [
    {
     "data": {
      "text/latex": [
       "$\\displaystyle 6.6$"
      ],
      "text/plain": [
       "6.60000000000000"
      ]
     },
     "execution_count": 30,
     "metadata": {},
     "output_type": "execute_result"
    }
   ],
   "source": [
    "3*x_num + 2*y_num"
   ]
  },
  {
   "cell_type": "code",
   "execution_count": 34,
   "id": "c4934e38",
   "metadata": {},
   "outputs": [
    {
     "data": {
      "text/plain": [
       "-0.948433153873583"
      ]
     },
     "execution_count": 34,
     "metadata": {},
     "output_type": "execute_result"
    }
   ],
   "source": [
    "float(sp.diff(darea_y, y).subs(y,y_num))"
   ]
  },
  {
   "cell_type": "markdown",
   "id": "df09f738",
   "metadata": {},
   "source": [
    "Para maximizar el área se necxesita qyue la base del rectángulo y los lados del trangulo sean $1.5464m$ y la altura $0.98m$"
   ]
  },
  {
   "cell_type": "code",
   "execution_count": null,
   "id": "692cae86",
   "metadata": {},
   "outputs": [],
   "source": []
  },
  {
   "cell_type": "code",
   "execution_count": null,
   "id": "4f40b1c9",
   "metadata": {},
   "outputs": [],
   "source": []
  },
  {
   "cell_type": "markdown",
   "id": "d3d74b29",
   "metadata": {},
   "source": [
    "Se busca un par de numeros que sea suma de 16 y maximice su producto"
   ]
  },
  {
   "cell_type": "code",
   "execution_count": 35,
   "id": "7146a756",
   "metadata": {},
   "outputs": [
    {
     "data": {
      "text/latex": [
       "$\\displaystyle 16 - y$"
      ],
      "text/plain": [
       "16 - y"
      ]
     },
     "execution_count": 35,
     "metadata": {},
     "output_type": "execute_result"
    }
   ],
   "source": [
    "import sympy as sp\n",
    "\n",
    "sp.var(\"x\")\n",
    "sp.var(\"y\")\n",
    "\n",
    "suma = x + y - 16\n",
    "x_y = sp.solve(suma,x)[0]\n",
    "x_y"
   ]
  },
  {
   "cell_type": "code",
   "execution_count": 46,
   "id": "385980d0",
   "metadata": {},
   "outputs": [
    {
     "data": {
      "text/latex": [
       "$\\displaystyle y \\left(16 - y\\right)$"
      ],
      "text/plain": [
       "y*(16 - y)"
      ]
     },
     "execution_count": 46,
     "metadata": {},
     "output_type": "execute_result"
    }
   ],
   "source": [
    "producto = x*y\n",
    "producto_y=producto.subs(x,x_y)\n",
    "producto_y"
   ]
  },
  {
   "cell_type": "code",
   "execution_count": 49,
   "id": "2c6a448f",
   "metadata": {},
   "outputs": [
    {
     "data": {
      "text/latex": [
       "$\\displaystyle 8$"
      ],
      "text/plain": [
       "8"
      ]
     },
     "execution_count": 49,
     "metadata": {},
     "output_type": "execute_result"
    }
   ],
   "source": [
    "dproducto_y = sp.diff(producto_y, y)\n",
    "y_num=sp.solve(dproducto_y,y)[0]\n",
    "y_num"
   ]
  },
  {
   "cell_type": "code",
   "execution_count": 50,
   "id": "a8f20cf0",
   "metadata": {},
   "outputs": [
    {
     "data": {
      "text/latex": [
       "$\\displaystyle -2$"
      ],
      "text/plain": [
       "-2"
      ]
     },
     "execution_count": 50,
     "metadata": {},
     "output_type": "execute_result"
    }
   ],
   "source": [
    "sp.diff(dproducto_y, y).subs(y, y_num)"
   ]
  },
  {
   "cell_type": "code",
   "execution_count": 51,
   "id": "a8e090c6",
   "metadata": {},
   "outputs": [
    {
     "data": {
      "text/latex": [
       "$\\displaystyle 8$"
      ],
      "text/plain": [
       "8"
      ]
     },
     "execution_count": 51,
     "metadata": {},
     "output_type": "execute_result"
    }
   ],
   "source": [
    "x_y.subs(y, y_num)"
   ]
  },
  {
   "cell_type": "code",
   "execution_count": null,
   "id": "17ff3e5b",
   "metadata": {},
   "outputs": [],
   "source": []
  },
  {
   "cell_type": "code",
   "execution_count": null,
   "id": "3fae6499",
   "metadata": {},
   "outputs": [],
   "source": []
  },
  {
   "cell_type": "code",
   "execution_count": null,
   "id": "89748ece",
   "metadata": {},
   "outputs": [],
   "source": []
  },
  {
   "cell_type": "code",
   "execution_count": null,
   "id": "b61d4203",
   "metadata": {},
   "outputs": [],
   "source": []
  }
 ],
 "metadata": {
  "kernelspec": {
   "display_name": "Python 3 (ipykernel)",
   "language": "python",
   "name": "python3"
  },
  "language_info": {
   "codemirror_mode": {
    "name": "ipython",
    "version": 3
   },
   "file_extension": ".py",
   "mimetype": "text/x-python",
   "name": "python",
   "nbconvert_exporter": "python",
   "pygments_lexer": "ipython3",
   "version": "3.9.12"
  }
 },
 "nbformat": 4,
 "nbformat_minor": 5
}
